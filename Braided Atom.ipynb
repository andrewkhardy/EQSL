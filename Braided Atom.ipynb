{
 "cells": [
  {
   "cell_type": "markdown",
   "metadata": {},
   "source": [
    "### Braided Atom Dynamics\n",
    "\n",
    "This notebook is based off of PRL 120, 140404 (2018), titled \"Decoherence-Free Interaction between Giant Atoms in Waveguide\" \n",
    "\n",
    "We'll see how much progress I get...\n",
    "starting with modified frequency by Lamb shift, \n",
    "$\\omega_{j}^{\\prime}=\\omega_{j}+\\delta \\omega_{j}$\n",
    "##### Master Equation\n",
    "$$ \\begin{aligned} \\dot{\\rho}=&-i\\left[\\omega_{a}^{\\prime} \\frac{\\sigma_{z}^{a}}{2}+\\omega_{b}^{\\prime} \\frac{\\sigma_{z}^{b}}{2}+g\\left(\\sigma_{-}^{a} \\sigma_{+}^{b}+\\sigma_{+}^{a} \\sigma_{-}^{b}\\right), \\rho\\right] \\\\ &+\\Gamma_{a} \\mathcal{D}\\left[\\sigma_{-}^{a}\\right] \\rho+\\Gamma_{b} \\mathcal{D}\\left[\\sigma_{-}^{b}\\right] \\rho \\\\ &+\\Gamma_{\\text { coll }}\\left[\\left(\\sigma_{-}^{a} \\rho \\sigma_{+}^{b}-\\frac{1}{2}\\left\\{\\sigma_{+}^{a} \\sigma_{-}^{b}, \\rho\\right\\}\\right)+\\mathrm{H.c.}\\right] \\end{aligned} $$\n",
    "##### Driving Term Added to the Hamiltonian \n",
    "I am making considerable adaptations to the Hamiltonian by adding a driving term, following the theory described in PHYSICAL REVIEW A 88, 043806 (2013) \n",
    "They have \n",
    "\\begin{equation}\n",
    "\\begin{aligned} H / \\hbar=& \\sum_{j} \\Delta_{j}\\left|e_{j}\\right\\rangle\\left\\langle e_{j}\\right|+\\sum_{j}\\left(\\epsilon_{j} \\sigma_{+}^{j}+\\mathrm{H.c.}\\right) \\\\ &+g\\left(\\sigma_{-}^{1} \\sigma_{+}^{2}+\\sigma_{+}^{1} \\sigma_{-}^{2}\\right) \\end{aligned}\n",
    "\\end{equation} \n",
    "and \n",
    "\\begin{equation}\n",
    "\\epsilon_{j}=-i \\sqrt{\\frac{\\gamma_{0 j, 0 j} \\omega_{d}}{2 \\omega_{0 j}}}\\left\\langle a_{\\mathrm{in}}^{\\mathrm{L}}\\right) e^{-i \\omega_{d} t_{j}}\n",
    "\\end{equation}\n",
    "I'll write down my thoughts through the three terms in the Hamiltonian.  The first is almost the same $\\sigma_z$ term. Perhaps by switching to the RWA or by driving I am only considering the excited state? Confused at this one. \n",
    "The second is believable. There is a driving strength and it excites qubits. The amplitude is complex, which is weird, it has a time dependence, which is weird, and the input expectation value could be anything I suppose, also weird. \n",
    "The third term at the very least is identical, ( I replaced J with g ) so I can believe that. \n",
    "##### Decay Operators & Parameters\n",
    "Frequency Shift $  d\\omega_j = \\gamma \\sin (2 \\varphi) $ \n",
    "\n",
    "Exchange Interaction $ g = (\\gamma / 2)(3 \\sin \\varphi+\\sin 3 \\varphi) $\n",
    "\n",
    "Individual Decay $ \\Gamma_j = 2 \\gamma ( 1 + \\cos (2 \\varphi ) )$ \n",
    "\n",
    "Collective Decay $ \\Gamma_{coll} = (\\gamma / 2)(3 \\cos \\varphi+\\cos 3 \\varphi) $"
   ]
  },
  {
   "cell_type": "code",
   "execution_count": 8,
   "metadata": {},
   "outputs": [],
   "source": [
    "import matplotlib.pyplot as plt\n",
    "import numpy as np\n",
    "from qutip import *"
   ]
  },
  {
   "cell_type": "code",
   "execution_count": 11,
   "metadata": {},
   "outputs": [],
   "source": [
    "def ham(phi, omega_d, omega_a, omega_b, gamma):\n",
    "    #importing decay rates\n",
    "    gamma_a = gamma*2*(1+np.cos(2*phi))\n",
    "    gamma_b = gamma_a\n",
    "    gamma_c = (gamma/2)*(3*np.cos(phi)+np.cos(3*phi))\n",
    "    # defining coefficents\n",
    "    delta_omega = gamma*np.sin(2*phi)                  # frequency shift\n",
    "    g =(gamma / 2) *(3*np.sin(phi)+np.sin(3*phi))      # interaction strength\n",
    "    #define Hamiltonian\n",
    "    H = (omega_a+delta_omega)/2*tensor(sigmaz(),qeye(2))+ \\\n",
    "    (omega_b + delta_omega)/2*tensor(qeye(2),sigmaz()) \\\n",
    "    + g*(tensor(sigmam(),sigmap())+tensor(sigmap(),sigmam())) \\\n",
    "    # equations to simulate loss\n",
    "    decay_1 = gamma_a * tensor(sigmam(),qeye(2))\n",
    "    decay_2 = gamma_b * tensor(qeye(2),sigmam())\n",
    "    decay_3 = gamma_c * lindblad_dissipator(tensor(sigmam(),qeye(2)),tensor(qeye(2),sigmam()))\n",
    "    decay_4 = gamma_c * lindblad_dissipator(tensor(sigmap(),qeye(2)),tensor(qeye(2),sigmap()))\n",
    "    # not yet translated from master equation\n",
    "    return H, [decay_1,decay_2,decay_3,decay_4]"
   ]
  },
  {
   "cell_type": "code",
   "execution_count": 18,
   "metadata": {},
   "outputs": [
    {
     "name": "stdout",
     "output_type": "stream",
     "text": [
      "[-6.30929743 -1.72808174  1.72808174  6.30929743]\n"
     ]
    }
   ],
   "source": [
    "H, c_op_list = ham(1,0,6.5,4.3,1)\n",
    "print(H.eigenenergies())"
   ]
  },
  {
   "cell_type": "code",
   "execution_count": 9,
   "metadata": {},
   "outputs": [],
   "source": [
    "def ham_driven(phi, omega_d, omega_a, omega_b, gamma, amp_in):\\\n",
    "    # making density matrix of e\n",
    "    e = basis(2, 0)\n",
    "    g = basis(2, 1)\n",
    "    #importing decay rates\n",
    "    gamma_a = gamma*2*(1+np.cos(2*phi))\n",
    "    gamma_b = gamma_a\n",
    "    gamma_c = (gamma/2)*(3*np.cos(phi)+np.cos(3*phi))\n",
    "    # defining coefficents\n",
    "    delta_omega = gamma*np.sin(2*phi)                  # frequency shift\n",
    "    g =(gamma / 2) *(3*np.sin(phi)+np.sin(3*phi))      # interaction strength\n",
    "    epsilon_a = -1j*np.sqrt(gamma_a*omega_d/(2*omega_a))*amp_in\n",
    "    epsilon_b = -1j*np.sqrt(gamma_b*omega_d/(2*omega_b))*amp_in\n",
    "    #define Hamiltonian\n",
    "    H= (omega_a+delta_omega -omega_d)/2*tensor(e*e.dag(),qeye(2))+ \\\n",
    "    (omega_b + delta_omega - omega_d)/2*tensor(qeye(2),e*e.dag()) \\\n",
    "    + g*(tensor(sigmam(),sigmap())+tensor(sigmap(),sigmam())) \\\n",
    "    + epsilon_a*(tensor(sigmap(),qeye(2)))+ np.conj(epsilon_a)*(tensor(sigmam(),qeye(2))) \\\n",
    "    + epsilon_b*(tensor(qeye(2),sigmap()))+ np.conj(epsilon_b)*(tensor(qeye(2),sigmam())) \n",
    "    \n",
    "    # equations to simulate loss\n",
    "    decay_1 = gamma_a * tensor(sigmam(),qeye(2))\n",
    "    decay_2 = gamma_b * tensor(qeye(2),sigmam())\n",
    "    decay_3 = gamma_c * lindblad_dissipator(tensor(sigmam(),qeye(2)),tensor(qeye(2),sigmam()))\n",
    "    decay_4 = gamma_c * lindblad_dissipator(tensor(sigmap(),qeye(2)),tensor(qeye(2),sigmap()))\n",
    "    # not yet translated from master equation\n",
    "    return H, [decay_1,decay_2,decay_3,decay_4]\n"
   ]
  },
  {
   "cell_type": "code",
   "execution_count": 19,
   "metadata": {
    "scrolled": false
   },
   "outputs": [
    {
     "data": {
      "image/png": "[encoded data removed]",
      "text/plain": [
       "<Figure size 720x720 with 2 Axes>"
      ]
     },
     "metadata": {
      "needs_background": "light"
     },
     "output_type": "display_data"
    },
    {
     "name": "stdout",
     "output_type": "stream",
     "text": [
      "done a round\n"
     ]
    }
   ],
   "source": [
    "# sweep parameters\n",
    "N = 60  # size of X grid\n",
    "M = 60  # size of Y grid\n",
    "gamma = 1\n",
    "amp_in = 2 * 2* np.pi \n",
    "# define excitation population\n",
    "e_pop = np.zeros([M,N])\n",
    "#omega_a = np.linspace(-40*np.pi,40*np.pi,N+1)  # Probe frequency detuning\n",
    "#omega_b = np.linspace(-40*np.pi,40*np.pi,M+1)  # Coupler frequency detuning\n",
    "omega_a = 6.5*2*np.pi \n",
    "omega_b = 6.2*2*np.pi\n",
    "omega_array = np.linspace(4.5*2*np.pi,5.5*2*np.pi, N)\n",
    "phi_array = np.linspace(0, np.pi,M )\n",
    "state = tensor(sigmax(),sigmax()) \n",
    "# spectograph sweep\n",
    "for i in range(N):\n",
    "    for j in range(M):\n",
    "        H, c_op_list = ham(phi_array[i], omega_array[j],omega_a, omega_b,gamma, amp_in)\n",
    "        result = steadystate(H, c_op_list)\n",
    "        e_pop[j,i] =  expect(state, result) \n",
    "\n",
    "# plotting functionality\n",
    "fig, ax = plt.subplots( figsize = (10 ,10))\n",
    "#np.savetxt('detuning_Ap5_Oc400_test.txt' ,e_pop, fmt= '%f' , delimiter= ',' )\n",
    "plot = ax.pcolor(omega_array/(2*np.pi),phi_array, e_pop, edgecolors= 'none' )\n",
    "plot.set_cmap ('RdYlBu')\n",
    "ax.set_ylabel(r'$\\varphi$', fontsize=20)\n",
    "ax.set_xlabel(r'$\\omega_{d}/2\\pi$', fontsize=20)\n",
    "ax.axis('tight')\n",
    "ax.set_title('Braided Atom', fontsize=16)\n",
    "plt.colorbar(plot)\n",
    "plt.savefig('braid_0.png')\n",
    "plt.show()\n",
    "print('done a round')\n"
   ]
  },
  {
   "cell_type": "code",
   "execution_count": null,
   "metadata": {},
   "outputs": [],
   "source": []
  }
 ],
 "metadata": {
  "kernelspec": {
   "display_name": "Python 3",
   "language": "python",
   "name": "python3"
  },
  "language_info": {
   "codemirror_mode": {
    "name": "ipython",
    "version": 3
   },
   "file_extension": ".py",
   "mimetype": "text/x-python",
   "name": "python",
   "nbconvert_exporter": "python",
   "pygments_lexer": "ipython3",
   "version": "3.7.3"
  }
 },
 "nbformat": 4,
 "nbformat_minor": 2
}
